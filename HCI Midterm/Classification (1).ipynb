{
 "cells": [
  {
   "cell_type": "code",
   "execution_count": 1,
   "id": "3b0f6f5a",
   "metadata": {},
   "outputs": [],
   "source": [
    "import mediapipe as mp\n",
    "import cv2\n",
    "import pandas as pd\n",
    "import time\n",
    "from dollarpy import Recognizer, Template, Point"
   ]
  },
  {
   "cell_type": "code",
   "execution_count": 2,
   "id": "8d843423",
   "metadata": {},
   "outputs": [],
   "source": [
    "mp_drawing = mp.solutions.drawing_utils\n",
    "mp_pose = mp.solutions.pose"
   ]
  },
  {
   "cell_type": "code",
   "execution_count": 3,
   "id": "bbe4884b",
   "metadata": {},
   "outputs": [],
   "source": [
    "recognizer = Recognizer([])"
   ]
  },
  {
   "cell_type": "code",
   "execution_count": 4,
   "id": "3df3797c",
   "metadata": {},
   "outputs": [],
   "source": [
    "gesture_templates = {}"
   ]
  },
  {
   "cell_type": "code",
   "execution_count": 5,
   "id": "99415a19",
   "metadata": {},
   "outputs": [],
   "source": [
    "def detect_exercise(pose_landmarks):\n",
    "    left_wrist = pose_landmarks.landmark[mp_pose.PoseLandmark.LEFT_WRIST]\n",
    "    right_wrist = pose_landmarks.landmark[mp_pose.PoseLandmark.RIGHT_WRIST]\n",
    "    left_shoulder = pose_landmarks.landmark[mp_pose.PoseLandmark.LEFT_SHOULDER]\n",
    "    right_shoulder = pose_landmarks.landmark[mp_pose.PoseLandmark.RIGHT_SHOULDER]\n",
    "    left_hip = pose_landmarks.landmark[mp_pose.PoseLandmark.LEFT_HIP]\n",
    "    right_hip = pose_landmarks.landmark[mp_pose.PoseLandmark.RIGHT_HIP]\n",
    "    left_knee = pose_landmarks.landmark[mp_pose.PoseLandmark.LEFT_KNEE]\n",
    "    right_knee = pose_landmarks.landmark[mp_pose.PoseLandmark.RIGHT_KNEE]\n",
    "    left_ankle = pose_landmarks.landmark[mp_pose.PoseLandmark.LEFT_ANKLE]\n",
    "    right_ankle = pose_landmarks.landmark[mp_pose.PoseLandmark.RIGHT_ANKLE]\n",
    "    \n",
    "    if abs(left_wrist.y - left_shoulder.y) > 0.3 and \\\n",
    "       abs(right_wrist.y - right_shoulder.y) > 0.3 and \\\n",
    "       abs(left_hip.y - left_shoulder.y) < 0.3 and \\\n",
    "       abs(right_hip.y - right_shoulder.y) < 0.3:\n",
    "        return \"pushups\"\n",
    "\n",
    "    # Example condition for squats (knee bending)\n",
    "    if abs(left_hip.y - left_knee.y) < 0.2 and \\\n",
    "       abs(right_hip.y - right_knee.y) < 0.2 and \\\n",
    "       abs(left_knee.y - left_ankle.y) > 0.3 and \\\n",
    "       abs(right_knee.y - right_ankle.y) > 0.3:\n",
    "        return \"squats\"\n",
    "\n",
    "    return \"unknown\"\n",
    "    "
   ]
  },
  {
   "cell_type": "code",
   "execution_count": 6,
   "id": "70f05783",
   "metadata": {},
   "outputs": [],
   "source": [
    "def getSquats(videoURL, save_interval=0.5):\n",
    "    # Open the video file\n",
    "    cap = cv2.VideoCapture(videoURL)\n",
    "    if not cap.isOpened():\n",
    "        print(f\"Error: Cannot open video file {videoURL}\")\n",
    "        return\n",
    "\n",
    "    data = []\n",
    "    last_save_time = time.time()\n",
    "\n",
    "    with mp_pose.Pose(min_detection_confidence=0.5, min_tracking_confidence=0.5) as pose:\n",
    "        while cap.isOpened():\n",
    "            ret, frame = cap.read()\n",
    "\n",
    "            if ret:\n",
    "                # Convert the frame to RGB\n",
    "                image = cv2.cvtColor(frame, cv2.COLOR_BGR2RGB)\n",
    "                image.flags.writeable = False\n",
    "\n",
    "                # Process the frame for pose landmarks\n",
    "                results = pose.process(image)\n",
    "\n",
    "                image.flags.writeable = True\n",
    "                image = cv2.cvtColor(image, cv2.COLOR_RGB2BGR)\n",
    "\n",
    "                # Check if pose landmarks are detected\n",
    "                if results.pose_landmarks:\n",
    "                    # Draw landmarks on the image\n",
    "                    mp_drawing.draw_landmarks(image, results.pose_landmarks, mp_pose.POSE_CONNECTIONS)\n",
    "\n",
    "                    # Detect exercise and extract key points\n",
    "                    exercise_label = detect_exercise(results.pose_landmarks)\n",
    "                    points = results.pose_landmarks.landmark\n",
    "                    key_points = {\n",
    "                        'LEFT_SHOULDER': (points[mp_pose.PoseLandmark.LEFT_SHOULDER].x, points[mp_pose.PoseLandmark.LEFT_SHOULDER].y),\n",
    "                        'RIGHT_SHOULDER': (points[mp_pose.PoseLandmark.RIGHT_SHOULDER].x, points[mp_pose.PoseLandmark.RIGHT_SHOULDER].y),\n",
    "                        'LEFT_HIP': (points[mp_pose.PoseLandmark.LEFT_HIP].x, points[mp_pose.PoseLandmark.LEFT_HIP].y),\n",
    "                        'RIGHT_HIP': (points[mp_pose.PoseLandmark.RIGHT_HIP].x, points[mp_pose.PoseLandmark.RIGHT_HIP].y),\n",
    "                        'LEFT_KNEE': (points[mp_pose.PoseLandmark.LEFT_KNEE].x, points[mp_pose.PoseLandmark.LEFT_KNEE].y),\n",
    "                        'RIGHT_KNEE': (points[mp_pose.PoseLandmark.RIGHT_KNEE].x, points[mp_pose.PoseLandmark.RIGHT_KNEE].y),\n",
    "                    }\n",
    "\n",
    "                    # Save data at the specified interval\n",
    "                    current_time = time.time()\n",
    "                    if current_time - last_save_time >= save_interval:\n",
    "                        data.append([exercise_label] + [value for kp in key_points.values() for value in kp])\n",
    "                        last_save_time = current_time\n",
    "\n",
    "                # Display the frame with landmarks\n",
    "                cv2.imshow(\"Exercise Detection\", image)\n",
    "\n",
    "            if not ret or cv2.waitKey(10) & 0xFF == ord('q'):\n",
    "                break\n",
    "\n",
    "    cap.release()\n",
    "    cv2.destroyAllWindows()\n",
    "\n",
    "    # Save data to a CSV file\n",
    "    column_names = ['Exercise'] + [f'{key} X' for key in key_points.keys()] + [f'{key} Y' for key in key_points.keys()]\n",
    "    df = pd.DataFrame(data, columns=column_names)\n",
    "    df.to_csv(\"exercise_squats.csv\", index=False)\n",
    "    print(\"Data saved to exercise_squats.csv\")\n",
    "    \n",
    "    import socket \n",
    "    soc = socket.socket()\n",
    "    hostname=\"localhost\"# 127.0.0.1 #0.0.0.0\n",
    "    port=65436\n",
    "    soc.bind((hostname,port))\n",
    "    soc.listen(5)\n",
    "    conn , addr = soc.accept()\n",
    "    print(\"device connected\"+str(addr))\n",
    "    # # Send String\n",
    "    msg = b\"Data Saved\\n\"\n",
    "    conn.send(msg)\n",
    "\n",
    "    soc.close()\n"
   ]
  },
  {
   "cell_type": "code",
   "execution_count": 7,
   "id": "ef8a4cfc",
   "metadata": {},
   "outputs": [],
   "source": [
    "def getPushups(videoURL, save_interval=0.5):\n",
    "    # Open the video file\n",
    "    cap = cv2.VideoCapture(videoURL)\n",
    "    if not cap.isOpened():\n",
    "        print(f\"Error: Cannot open video file {videoURL}\")\n",
    "        return\n",
    "\n",
    "    data = []\n",
    "    last_save_time = time.time()\n",
    "\n",
    "    with mp_pose.Pose(min_detection_confidence=0.5, min_tracking_confidence=0.5) as pose:\n",
    "        while cap.isOpened():\n",
    "            ret, frame = cap.read()\n",
    "\n",
    "            if ret:\n",
    "                # Convert the frame to RGB\n",
    "                image = cv2.cvtColor(frame, cv2.COLOR_BGR2RGB)\n",
    "                image.flags.writeable = False\n",
    "\n",
    "                # Process the frame for pose landmarks\n",
    "                results = pose.process(image)\n",
    "\n",
    "                image.flags.writeable = True\n",
    "                image = cv2.cvtColor(image, cv2.COLOR_RGB2BGR)\n",
    "\n",
    "                # Check if pose landmarks are detected\n",
    "                if results.pose_landmarks:\n",
    "                    # Draw landmarks on the image\n",
    "                    mp_drawing.draw_landmarks(image, results.pose_landmarks, mp_pose.POSE_CONNECTIONS)\n",
    "\n",
    "                    # Detect exercise and extract key points\n",
    "                    exercise_label = detect_exercise(results.pose_landmarks)\n",
    "                    points = results.pose_landmarks.landmark\n",
    "                    key_points = {\n",
    "                        'LEFT_SHOULDER': (points[mp_pose.PoseLandmark.LEFT_SHOULDER].x, points[mp_pose.PoseLandmark.LEFT_SHOULDER].y),\n",
    "                        'RIGHT_SHOULDER': (points[mp_pose.PoseLandmark.RIGHT_SHOULDER].x, points[mp_pose.PoseLandmark.RIGHT_SHOULDER].y),\n",
    "                        'LEFT_HIP': (points[mp_pose.PoseLandmark.LEFT_HIP].x, points[mp_pose.PoseLandmark.LEFT_HIP].y),\n",
    "                        'RIGHT_HIP': (points[mp_pose.PoseLandmark.RIGHT_HIP].x, points[mp_pose.PoseLandmark.RIGHT_HIP].y),\n",
    "                        'LEFT_KNEE': (points[mp_pose.PoseLandmark.LEFT_KNEE].x, points[mp_pose.PoseLandmark.LEFT_KNEE].y),\n",
    "                        'RIGHT_KNEE': (points[mp_pose.PoseLandmark.RIGHT_KNEE].x, points[mp_pose.PoseLandmark.RIGHT_KNEE].y),\n",
    "                    }\n",
    "\n",
    "                    # Save data at the specified interval\n",
    "                    current_time = time.time()\n",
    "                    if current_time - last_save_time >= save_interval:\n",
    "                        data.append([exercise_label] + [value for kp in key_points.values() for value in kp])\n",
    "                        last_save_time = current_time\n",
    "\n",
    "                # Display the frame with landmarks\n",
    "                cv2.imshow(\"Exercise Detection\", image)\n",
    "\n",
    "            if not ret or cv2.waitKey(10) & 0xFF == ord('q'):\n",
    "                break\n",
    "\n",
    "    cap.release()\n",
    "    cv2.destroyAllWindows()\n",
    "\n",
    "    # Save data to a CSV file\n",
    "    column_names = ['Exercise'] + [f'{key} X' for key in key_points.keys()] + [f'{key} Y' for key in key_points.keys()]\n",
    "    df = pd.DataFrame(data, columns=column_names)\n",
    "    df.to_csv(\"exercise_pushups.csv\", index=False)\n",
    "    print(\"Data saved to exercise_pushups.csv\")\n",
    "    \n",
    "    import socket \n",
    "    soc = socket.socket()\n",
    "    hostname=\"localhost\"# 127.0.0.1 #0.0.0.0\n",
    "    port=65436\n",
    "    soc.bind((hostname,port))\n",
    "    soc.listen(5)\n",
    "    conn , addr = soc.accept()\n",
    "    print(\"device connected\"+str(addr))\n",
    "    # # Send String\n",
    "    msg = b\"Data Saved\\n\"\n",
    "    conn.send(msg)\n",
    "\n",
    "    soc.close()\n"
   ]
  },
  {
   "cell_type": "code",
   "execution_count": 8,
   "id": "35ea72be",
   "metadata": {},
   "outputs": [],
   "source": [
    "def calculate_angle(point1, point2, point3):\n",
    "        import math\n",
    "        x1, y1 = point1.x, point1.y\n",
    "        x2, y2 = point2.x, point2.y\n",
    "        x3, y3 = point3.x, point3.y\n",
    "\n",
    "        vector1 = (x1 - x2, y1 - y2)\n",
    "        vector2 = (x3 - x2, y3 - y2)\n",
    "\n",
    "        dot_product = vector1[0] * vector2[0] + vector1[1] * vector2[1]\n",
    "        magnitude1 = math.sqrt(vector1[0] ** 2 + vector1[1] ** 2)\n",
    "        magnitude2 = math.sqrt(vector2[0] ** 2 + vector2[1] ** 2)\n",
    "\n",
    "        angle = math.acos(dot_product / (magnitude1 * magnitude2))\n",
    "        return math.degrees(angle)"
   ]
  },
  {
   "cell_type": "code",
   "execution_count": 9,
   "id": "2b5fbe4b",
   "metadata": {},
   "outputs": [],
   "source": [
    "def classify_body_movement(new_sample):\n",
    "    points = [Point(x, y) for x, y in new_sample]\n",
    "    templates = [template for templates in gesture_templates.values() for template in templates]\n",
    "    best_match = recognizer.recognize(points, templates)\n",
    "    \n",
    "    if not best_match:\n",
    "        return \"unknown\"\n",
    "    return best_match.label"
   ]
  },
  {
   "cell_type": "code",
   "execution_count": 11,
   "id": "3ae8ecee",
   "metadata": {},
   "outputs": [
    {
     "name": "stderr",
     "output_type": "stream",
     "text": [
      "C:\\Users\\nourr\\anaconda3\\Lib\\site-packages\\google\\protobuf\\symbol_database.py:55: UserWarning: SymbolDatabase.GetPrototype() is deprecated. Please use message_factory.GetMessageClass() instead. SymbolDatabase.GetPrototype() will be removed soon.\n",
      "  warnings.warn('SymbolDatabase.GetPrototype() is deprecated. Please '\n"
     ]
    },
    {
     "name": "stdout",
     "output_type": "stream",
     "text": [
      "Data saved to exercise_data.csv\n",
      "device connected('127.0.0.1', 55190)\n"
     ]
    }
   ],
   "source": [
    "vid = \"Squats.mp4\"\n",
    "getSquats(vid)"
   ]
  },
  {
   "cell_type": "code",
   "execution_count": 12,
   "id": "606c2419",
   "metadata": {},
   "outputs": [
    {
     "name": "stdout",
     "output_type": "stream",
     "text": [
      "Data saved to exercise_data.csv\n",
      "device connected('127.0.0.1', 55191)\n"
     ]
    }
   ],
   "source": [
    "vid = \"Pushups.mp4\"\n",
    "getPushups(vid)"
   ]
  },
  {
   "cell_type": "code",
   "execution_count": null,
   "id": "8659b6ca",
   "metadata": {},
   "outputs": [],
   "source": []
  },
  {
   "cell_type": "code",
   "execution_count": null,
   "id": "0bc5570f",
   "metadata": {},
   "outputs": [],
   "source": []
  }
 ],
 "metadata": {
  "kernelspec": {
   "display_name": "Python 3 (ipykernel)",
   "language": "python",
   "name": "python3"
  },
  "language_info": {
   "codemirror_mode": {
    "name": "ipython",
    "version": 3
   },
   "file_extension": ".py",
   "mimetype": "text/x-python",
   "name": "python",
   "nbconvert_exporter": "python",
   "pygments_lexer": "ipython3",
   "version": "3.11.5"
  }
 },
 "nbformat": 4,
 "nbformat_minor": 5
}
