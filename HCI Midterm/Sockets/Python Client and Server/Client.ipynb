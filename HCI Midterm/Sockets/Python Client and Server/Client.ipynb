{
 "cells": [
  {
   "cell_type": "code",
   "execution_count": 6,
   "id": "f461f32b",
   "metadata": {},
   "outputs": [
    {
     "name": "stdout",
     "output_type": "stream",
     "text": [
      "[2, 3, 4]\n"
     ]
    }
   ],
   "source": [
    "import socket\n",
    "import pickle\n",
    "soc = socket.socket()\n",
    "hostname=\"localhost\"# 127.0.0.1 #0.0.0.0\n",
    "port=65436\n",
    "soc.connect((hostname,port))\n",
    "\n",
    "data = soc.recv(1024)\n",
    "res = pickle.loads(data)\n",
    "# print(data)\n",
    "print(res)\n",
    "soc.close()"
   ]
  },
  {
   "cell_type": "code",
   "execution_count": 4,
   "id": "d8164802",
   "metadata": {},
   "outputs": [],
   "source": [
    "soc.close()"
   ]
  },
  {
   "cell_type": "code",
   "execution_count": null,
   "id": "627cbf3d",
   "metadata": {},
   "outputs": [],
   "source": []
  }
 ],
 "metadata": {
  "kernelspec": {
   "display_name": "Python 3",
   "language": "python",
   "name": "python3"
  },
  "language_info": {
   "codemirror_mode": {
    "name": "ipython",
    "version": 3
   },
   "file_extension": ".py",
   "mimetype": "text/x-python",
   "name": "python",
   "nbconvert_exporter": "python",
   "pygments_lexer": "ipython3",
   "version": "3.8.8"
  }
 },
 "nbformat": 4,
 "nbformat_minor": 5
}
