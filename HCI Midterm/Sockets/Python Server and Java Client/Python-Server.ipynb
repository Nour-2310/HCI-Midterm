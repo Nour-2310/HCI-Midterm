{
 "cells": [
  {
   "cell_type": "code",
   "execution_count": 12,
   "id": "f9cc5094",
   "metadata": {},
   "outputs": [
    {
     "name": "stdout",
     "output_type": "stream",
     "text": [
      "device connected('127.0.0.1', 56898)\n"
     ]
    }
   ],
   "source": [
    "#Send String\n",
    "import socket \n",
    "soc = socket.socket()\n",
    "hostname=\"localhost\"# 127.0.0.1 #0.0.0.0\n",
    "port=65436\n",
    "soc.bind((hostname,port))\n",
    "soc.listen(5)\n",
    "conn , addr = soc.accept()\n",
    "print(\"device connected\"+str(addr))\n",
    "# # Send String\n",
    "msg = b\"Hello From Python Server\\n\"\n",
    "conn.send(msg)\n",
    "\n",
    "soc.close()"
   ]
  },
  {
   "cell_type": "code",
   "execution_count": null,
   "id": "4ef3a75c",
   "metadata": {},
   "outputs": [],
   "source": []
  },
  {
   "cell_type": "code",
   "execution_count": 11,
   "id": "b762a86d",
   "metadata": {},
   "outputs": [
    {
     "name": "stdout",
     "output_type": "stream",
     "text": [
      "device connected('127.0.0.1', 56630)\n"
     ]
    }
   ],
   "source": []
  },
  {
   "cell_type": "code",
   "execution_count": null,
   "id": "978f7173",
   "metadata": {},
   "outputs": [],
   "source": []
  }
 ],
 "metadata": {
  "kernelspec": {
   "display_name": "Python 3",
   "language": "python",
   "name": "python3"
  },
  "language_info": {
   "codemirror_mode": {
    "name": "ipython",
    "version": 3
   },
   "file_extension": ".py",
   "mimetype": "text/x-python",
   "name": "python",
   "nbconvert_exporter": "python",
   "pygments_lexer": "ipython3",
   "version": "3.8.8"
  }
 },
 "nbformat": 4,
 "nbformat_minor": 5
}
